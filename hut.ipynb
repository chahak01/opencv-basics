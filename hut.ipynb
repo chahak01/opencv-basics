{
 "cells": [
  {
   "cell_type": "markdown",
   "id": "4f96563c",
   "metadata": {},
   "source": [
    "# Creating image"
   ]
  },
  {
   "cell_type": "code",
   "execution_count": null,
   "id": "0cd664c2",
   "metadata": {},
   "outputs": [],
   "source": [
    "#importing libraries\n",
    "import numpy\n",
    "import cv2"
   ]
  },
  {
   "cell_type": "code",
   "execution_count": null,
   "id": "0d3848db",
   "metadata": {},
   "outputs": [],
   "source": [
    "#Creating an array\n",
    "photo=numpy.zeros([600,800,3])"
   ]
  },
  {
   "cell_type": "code",
   "execution_count": null,
   "id": "ae1f0993",
   "metadata": {},
   "outputs": [],
   "source": [
    "photo[ : , : ,]=[1,1,1]"
   ]
  },
  {
   "cell_type": "code",
   "execution_count": null,
   "id": "43be3ec5",
   "metadata": {
    "scrolled": false
   },
   "outputs": [],
   "source": [
    "#making triangle \n",
    "p1 = (400, 100)\n",
    "p2 = (150, 250)\n",
    "p3 = (650, 250)\n",
    "cv2.line(photo, p1, p2, (255, 0, 0), 3)\n",
    "cv2.line(photo, p2, p3, (255, 0, 0), 3)\n",
    "cv2.line(photo, p1, p3, (255, 0, 0), 3)"
   ]
  },
  {
   "cell_type": "code",
   "execution_count": null,
   "id": "d06cfc5e",
   "metadata": {},
   "outputs": [],
   "source": [
    "photo[250:800,150:650]=[0,10,10]\n",
    "photo[440:600,350:450]=[10,0,10]"
   ]
  },
  {
   "cell_type": "code",
   "execution_count": null,
   "id": "cd054daf",
   "metadata": {},
   "outputs": [],
   "source": [
    "cv2.imshow('p', photo)\n",
    "cv2.waitKey()\n",
    "cv2.destroyAllWindows()"
   ]
  }
 ],
 "metadata": {
  "kernelspec": {
   "display_name": "Python 3",
   "language": "python",
   "name": "python3"
  },
  "language_info": {
   "codemirror_mode": {
    "name": "ipython",
    "version": 3
   },
   "file_extension": ".py",
   "mimetype": "text/x-python",
   "name": "python",
   "nbconvert_exporter": "python",
   "pygments_lexer": "ipython3",
   "version": "3.8.8"
  }
 },
 "nbformat": 4,
 "nbformat_minor": 5
}
