{
 "cells": [
  {
   "cell_type": "markdown",
   "id": "4c5af7e8",
   "metadata": {},
   "source": [
    "# Swaping"
   ]
  },
  {
   "cell_type": "code",
   "execution_count": 6,
   "id": "a5be9aae",
   "metadata": {},
   "outputs": [],
   "source": [
    "#importing libraries\n",
    "import numpy\n",
    "import cv2"
   ]
  },
  {
   "cell_type": "code",
   "execution_count": 7,
   "id": "7db07d67",
   "metadata": {},
   "outputs": [],
   "source": [
    "#reading first image\n",
    "photo1=cv2.imread('ana.jpg')"
   ]
  },
  {
   "cell_type": "code",
   "execution_count": 8,
   "id": "1be32015",
   "metadata": {},
   "outputs": [
    {
     "data": {
      "text/plain": [
       "(1080, 1080, 3)"
      ]
     },
     "execution_count": 8,
     "metadata": {},
     "output_type": "execute_result"
    }
   ],
   "source": [
    "photo1.shape"
   ]
  },
  {
   "cell_type": "code",
   "execution_count": 9,
   "id": "5043c3a0",
   "metadata": {},
   "outputs": [],
   "source": [
    "#reading secong image\n",
    "photo2=cv2.imread('belle.jpg')"
   ]
  },
  {
   "cell_type": "code",
   "execution_count": 10,
   "id": "318a6cd7",
   "metadata": {},
   "outputs": [],
   "source": [
    "#Showing both photos\n",
    "cv2.imshow('a',photo1)\n",
    "cv2.waitKey()\n",
    "cv2.imshow('e',photo2)\n",
    "cv2.waitKey()\n",
    "cv2.destroyAllWindows()"
   ]
  },
  {
   "cell_type": "code",
   "execution_count": 11,
   "id": "25d210f4",
   "metadata": {},
   "outputs": [],
   "source": [
    "#resizing both photos to same size\n",
    "photo1=cv2.resize(photo1, (400,400))\n",
    "photo2=cv2.resize(photo2, (400,400))"
   ]
  },
  {
   "cell_type": "code",
   "execution_count": 12,
   "id": "07dee2a4",
   "metadata": {},
   "outputs": [],
   "source": [
    "#photos after resizing\n",
    "cv2.imshow('a',photo1)\n",
    "cv2.waitKey()\n",
    "cv2.imshow('e',photo2)\n",
    "cv2.waitKey()\n",
    "cv2.destroyAllWindows()"
   ]
  },
  {
   "cell_type": "code",
   "execution_count": 13,
   "id": "8340cbd8",
   "metadata": {},
   "outputs": [],
   "source": [
    "#Cropping first photo\n",
    "cp=photo1[40:200, 100:250]"
   ]
  },
  {
   "cell_type": "code",
   "execution_count": 14,
   "id": "e3f7c366",
   "metadata": {},
   "outputs": [],
   "source": [
    "#First photo after cropping\n",
    "cv2.imshow('cp',cp)\n",
    "cv2.waitKey()\n",
    "cv2.destroyAllWindows()"
   ]
  },
  {
   "cell_type": "code",
   "execution_count": 15,
   "id": "4e90c6a2",
   "metadata": {},
   "outputs": [],
   "source": [
    "temp=numpy.zeros([400,400,3])"
   ]
  },
  {
   "cell_type": "code",
   "execution_count": 16,
   "id": "0f1ac079",
   "metadata": {},
   "outputs": [],
   "source": [
    "for i in range(40,200):\n",
    "    for j in range(100,250):\n",
    "        temp[i,j]=photo1[i,j]\n",
    "        photo1[i,j]=photo2[i,j]\n",
    "        photo2[i,j]=temp[i,j]"
   ]
  },
  {
   "cell_type": "code",
   "execution_count": 17,
   "id": "7051ce1b",
   "metadata": {},
   "outputs": [],
   "source": [
    "#Photos after swaping\n",
    "cv2.imshow('a',photo1)\n",
    "cv2.waitKey()\n",
    "cv2.destroyAllWindows()\n",
    "cv2.imshow('e',photo2)\n",
    "cv2.waitKey()\n",
    "cv2.destroyAllWindows()"
   ]
  },
  {
   "cell_type": "markdown",
   "id": "95ff11cc",
   "metadata": {},
   "source": [
    "# Concating"
   ]
  },
  {
   "cell_type": "code",
   "execution_count": 18,
   "id": "50ad113e",
   "metadata": {},
   "outputs": [],
   "source": [
    "#concating photo 1 and photo 2\n",
    "photo3=numpy.append(photo1,photo2,axis=1)"
   ]
  },
  {
   "cell_type": "code",
   "execution_count": 19,
   "id": "6d5a605d",
   "metadata": {},
   "outputs": [],
   "source": [
    "cv2.imshow('concate',photo3)\n",
    "cv2.waitKey()\n",
    "cv2.destroyAllWindows()"
   ]
  },
  {
   "cell_type": "code",
   "execution_count": null,
   "id": "f3909c02",
   "metadata": {},
   "outputs": [],
   "source": []
  }
 ],
 "metadata": {
  "kernelspec": {
   "display_name": "Python 3",
   "language": "python",
   "name": "python3"
  },
  "language_info": {
   "codemirror_mode": {
    "name": "ipython",
    "version": 3
   },
   "file_extension": ".py",
   "mimetype": "text/x-python",
   "name": "python",
   "nbconvert_exporter": "python",
   "pygments_lexer": "ipython3",
   "version": "3.8.8"
  }
 },
 "nbformat": 4,
 "nbformat_minor": 5
}
